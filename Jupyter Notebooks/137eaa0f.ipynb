{
 "cells": [
  {
   "cell_type": "code",
   "execution_count": 1,
   "metadata": {},
   "outputs": [],
   "source": [
    "import json\n",
    "import numpy as np"
   ]
  },
  {
   "cell_type": "code",
   "execution_count": 2,
   "metadata": {},
   "outputs": [],
   "source": [
    "# Import the data\n",
    "with open('C:\\\\Users\\\\anear\\\\OneDrive - National University of Ireland, Galway\\\\PhD\\\\Taught Modules\\\\Programming and Tools for AI (CT5132)\\\\Assignment 3\\\\ARC\\\\data\\\\training/137eaa0f.json') as json_file:\n",
    "    data = json.load(json_file)\n",
    "    \n",
    "inp1 = np.array(data['train'][0]['input'])\n",
    "outp1 = np.array(data['train'][0]['output'])\n",
    "\n",
    "inp2 = np.array(data['train'][1]['input'])\n",
    "outp2 = np.array(data['train'][1]['output'])\n",
    "\n",
    "inp3 = np.array(data['train'][2]['input'])\n",
    "outp3 = np.array(data['train'][2]['output'])"
   ]
  },
  {
   "cell_type": "code",
   "execution_count": 9,
   "metadata": {},
   "outputs": [
    {
     "name": "stdout",
     "output_type": "stream",
     "text": [
      "Example 1 - The output is correct!\n",
      "Example 2 - The output is correct!\n",
      "Example 3 - The output is correct!\n"
     ]
    }
   ],
   "source": [
    "# Check the three training examples\n",
    "inps = [inp1, inp2, inp3]\n",
    "outps = [outp1, outp2, outp3]\n",
    "examples = len(inps)\n",
    "\n",
    "for ex in range(examples):\n",
    "    \n",
    "    # Specify the input and output\n",
    "    inp = inps[ex]\n",
    "    outp = outps[ex]\n",
    "    \n",
    "    # Find the locations of grey squares in the input\n",
    "    grey_squares = np.where(inp==5)\n",
    "    \n",
    "    # Find how many grey squares there are\n",
    "    num_greys = np.shape(grey_squares)[1]\n",
    "    \n",
    "    # Create a 3d numpy array\n",
    "    threeD_output = np.zeros((3,3,num_greys))\n",
    "    \n",
    "    # Iterate through the grey squares to construct a 3x3 grid with grey in the centre\n",
    "    for j in range(num_greys):\n",
    "    \n",
    "        # Find location of grey square\n",
    "        loc_x, loc_y = grey_squares[0][j], grey_squares[1][j]\n",
    "    \n",
    "        # Construct a 3x3 matrix around the grey square\n",
    "        threeXthree = inp[(loc_x-1):(loc_x+2), (loc_y-1):(loc_y+2)]\n",
    "    \n",
    "        # Save threeXthree as layer in threeD_output\n",
    "        threeD_output[:,:,j] = threeXthree\n",
    "    \n",
    "    # Find the final output by taking the max of each square surrounding the grey centre\n",
    "    ans = np.max(threeD_output, axis=2)\n",
    "    \n",
    "    # Check the answer is correct\n",
    "    if np.all(ans==outp):\n",
    "        print('Example {} - The output is correct!'.format(ex+1))\n",
    "    else:\n",
    "        print('Example {} - Oh no, this is incorrect!'.format(ex+1))"
   ]
  },
  {
   "cell_type": "code",
   "execution_count": 14,
   "metadata": {},
   "outputs": [
    {
     "name": "stdout",
     "output_type": "stream",
     "text": [
      "The output is correct!\n"
     ]
    }
   ],
   "source": [
    "# Check the test example\n",
    "inp = np.array(data['test'][0]['input'])\n",
    "outp = np.array(data['test'][0]['output'])\n",
    "    \n",
    "# Find the locations of grey squares in the input\n",
    "grey_squares = np.where(inp==5)\n",
    "    \n",
    "# Find how many grey squares there are\n",
    "num_greys = np.shape(grey_squares)[1]\n",
    "    \n",
    "# Create a 3d numpy array\n",
    "threeD_output = np.zeros((3,3,num_greys))\n",
    "    \n",
    "# Iterate through the grey squares to construct a 3x3 grid with grey in the centre\n",
    "for i in range(num_greys):\n",
    "    \n",
    "    # Find location of grey square\n",
    "    loc_x, loc_y = grey_squares[0][i], grey_squares[1][i]\n",
    "\n",
    "    # Construct a 3x3 matrix around the grey square\n",
    "    threeXthree = inp[(loc_x-1):(loc_x+2), (loc_y-1):(loc_y+2)]\n",
    "    \n",
    "    # Save threeXthree as layer in threeD_output\n",
    "    threeD_output[:,:,i] = threeXthree\n",
    "    \n",
    "    # Find the final output by taking the max of each square surrounding the grey centre\n",
    "    ans = np.max(threeD_output, axis=2)\n",
    "    \n",
    "# Check the answer is correct\n",
    "if np.all(ans==outp):\n",
    "    print('The output is correct!')\n",
    "else:\n",
    "    print('Oh no, this is incorrect!')"
   ]
  },
  {
   "cell_type": "code",
   "execution_count": null,
   "metadata": {},
   "outputs": [],
   "source": []
  }
 ],
 "metadata": {
  "kernelspec": {
   "display_name": "Python 3",
   "language": "python",
   "name": "python3"
  },
  "language_info": {
   "codemirror_mode": {
    "name": "ipython",
    "version": 3
   },
   "file_extension": ".py",
   "mimetype": "text/x-python",
   "name": "python",
   "nbconvert_exporter": "python",
   "pygments_lexer": "ipython3",
   "version": "3.7.3"
  }
 },
 "nbformat": 4,
 "nbformat_minor": 4
}
