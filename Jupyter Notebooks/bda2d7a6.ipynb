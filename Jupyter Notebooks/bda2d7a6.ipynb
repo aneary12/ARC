{
 "cells": [
  {
   "cell_type": "code",
   "execution_count": 1,
   "metadata": {},
   "outputs": [],
   "source": [
    "import json\n",
    "import numpy as np"
   ]
  },
  {
   "cell_type": "code",
   "execution_count": 2,
   "metadata": {},
   "outputs": [],
   "source": [
    "# Import the data\n",
    "with open('C:\\\\Users\\\\anear\\\\OneDrive - National University of Ireland, Galway\\\\PhD\\\\Taught Modules\\\\Programming and Tools for AI (CT5132)\\\\Assignment 3\\\\ARC\\\\data\\\\training/bda2d7a6.json') as json_file:\n",
    "    data = json.load(json_file)\n",
    "    \n",
    "inp1 = np.array(data['train'][0]['input'])\n",
    "outp1 = np.array(data['train'][0]['output'])\n",
    "\n",
    "inp2 = np.array(data['train'][1]['input'])\n",
    "outp2 = np.array(data['train'][1]['output'])\n",
    "\n",
    "inp3 = np.array(data['train'][2]['input'])\n",
    "outp3 = np.array(data['train'][2]['output'])\n",
    "\n",
    "t_inp1 = np.array(data['test'][0]['input'])\n",
    "t_outp1 = np.array(data['test'][0]['output'])\n",
    "\n",
    "t_inp2 = np.array(data['test'][1]['input'])\n",
    "t_outp2 = np.array(data['test'][1]['output'])"
   ]
  },
  {
   "cell_type": "code",
   "execution_count": 3,
   "metadata": {},
   "outputs": [
    {
     "name": "stdout",
     "output_type": "stream",
     "text": [
      "Example 1 - The output is correct!\n",
      "Example 2 - The output is correct!\n",
      "Example 3 - The output is correct!\n"
     ]
    }
   ],
   "source": [
    "# Check the three training examples\n",
    "inps = [inp1, inp2, inp3]\n",
    "outps = [outp1, outp2, outp3]\n",
    "examples = len(inps)\n",
    "\n",
    "for ex in range(examples):\n",
    "    \n",
    "    # Specify the input and output\n",
    "    inp = inps[ex]\n",
    "    outp = outps[ex]\n",
    "    \n",
    "    # Find the colours in the input\n",
    "    colours = np.unique(inp)\n",
    "    \n",
    "    # Define the number of colours in the input\n",
    "    num_colours = len(colours)\n",
    "    \n",
    "    # Find the area that each colour takes up\n",
    "    areas = np.zeros((num_colours,))\n",
    "    for i in range(num_colours):\n",
    "        areas[i] = np.sum(inp==colours[i])\n",
    "        \n",
    "    # Sort the colours from largest area to smallest\n",
    "    sorted_colours = np.flip(colours[np.argsort(areas)])\n",
    "    \n",
    "    # Map original colours to new colours\n",
    "    new_order = np.hstack((sorted_colours[-1], sorted_colours[:-1]))\n",
    "    \n",
    "    # Replace each colour with the appropriate new colour\n",
    "    ans = np.zeros(np.shape(inp))\n",
    "    for i in range(num_colours):\n",
    "        ans[inp==sorted_colours[i]] = new_order[i]\n",
    "    \n",
    "    # Check the answer is correct\n",
    "    if np.all(ans==outp):\n",
    "        print('Example {} - The output is correct!'.format(ex+1))\n",
    "    else:\n",
    "        print('Example {} - Oh no, this is incorrect!'.format(ex+1))"
   ]
  },
  {
   "cell_type": "code",
   "execution_count": 4,
   "metadata": {},
   "outputs": [
    {
     "name": "stdout",
     "output_type": "stream",
     "text": [
      "Test 1 - The output is correct!\n",
      "Test 2 - The output is correct!\n"
     ]
    }
   ],
   "source": [
    "# Check the two test examples\n",
    "inps = [t_inp1, t_inp2]\n",
    "outps = [t_outp1, t_outp2]\n",
    "examples = len(inps)\n",
    "\n",
    "for ex in range(examples):\n",
    "    \n",
    "    # Specify the input and output\n",
    "    inp = inps[ex]\n",
    "    outp = outps[ex]\n",
    "    \n",
    "    # Find the colours in the input\n",
    "    colours = np.unique(inp)\n",
    "    \n",
    "    # Define the number of colours in the input\n",
    "    num_colours = len(colours)\n",
    "    \n",
    "    # Find the area that each colour takes up\n",
    "    areas = np.zeros((num_colours,))\n",
    "    for i in range(num_colours):\n",
    "        areas[i] = np.sum(inp==colours[i])\n",
    "        \n",
    "    # Sort the colours from largest area to smallest\n",
    "    sorted_colours = np.flip(colours[np.argsort(areas)])\n",
    "    \n",
    "    # Map original colours to new colours\n",
    "    new_order = np.hstack((sorted_colours[-1], sorted_colours[:-1]))\n",
    "    \n",
    "    # Replace each colour with the appropriate new colour\n",
    "    ans = np.zeros(np.shape(inp))\n",
    "    for i in range(num_colours):\n",
    "        ans[inp==sorted_colours[i]] = new_order[i]\n",
    "    \n",
    "    # Check the answer is correct\n",
    "    if np.all(ans==outp):\n",
    "        print('Test {} - The output is correct!'.format(ex+1))\n",
    "    else:\n",
    "        print('Test {} - Oh no, this is incorrect!'.format(ex+1))"
   ]
  },
  {
   "cell_type": "code",
   "execution_count": null,
   "metadata": {},
   "outputs": [],
   "source": []
  }
 ],
 "metadata": {
  "kernelspec": {
   "display_name": "Python 3",
   "language": "python",
   "name": "python3"
  },
  "language_info": {
   "codemirror_mode": {
    "name": "ipython",
    "version": 3
   },
   "file_extension": ".py",
   "mimetype": "text/x-python",
   "name": "python",
   "nbconvert_exporter": "python",
   "pygments_lexer": "ipython3",
   "version": "3.7.3"
  }
 },
 "nbformat": 4,
 "nbformat_minor": 4
}
